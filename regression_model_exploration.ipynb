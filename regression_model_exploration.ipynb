{
 "cells": [
  {
   "cell_type": "code",
   "execution_count": 1,
   "id": "f93134a4-6496-4e6f-8c37-eec14877e4e3",
   "metadata": {},
   "outputs": [],
   "source": [
    "#load dataset as a pandas dataframe\n",
    "#task1: Import the data from daily-bike-share.csv and view the first few rows.\n",
    "import pandas as pd\n",
    "df = pd.read_csv('daily-bike-share.csv')"
   ]
  },
  {
   "cell_type": "markdown",
   "id": "3b73ddbb-613e-4e4b-b6b8-fd21060d96df",
   "metadata": {},
   "source": [
    "## Exploring the dataset"
   ]
  },
  {
   "cell_type": "code",
   "execution_count": 2,
   "id": "e4fadc8f-32b9-474d-ae58-b93b6027b6c8",
   "metadata": {},
   "outputs": [
    {
     "data": {
      "text/html": [
       "<div>\n",
       "<style scoped>\n",
       "    .dataframe tbody tr th:only-of-type {\n",
       "        vertical-align: middle;\n",
       "    }\n",
       "\n",
       "    .dataframe tbody tr th {\n",
       "        vertical-align: top;\n",
       "    }\n",
       "\n",
       "    .dataframe thead th {\n",
       "        text-align: right;\n",
       "    }\n",
       "</style>\n",
       "<table border=\"1\" class=\"dataframe\">\n",
       "  <thead>\n",
       "    <tr style=\"text-align: right;\">\n",
       "      <th></th>\n",
       "      <th>instant</th>\n",
       "      <th>dteday</th>\n",
       "      <th>season</th>\n",
       "      <th>yr</th>\n",
       "      <th>mnth</th>\n",
       "      <th>holiday</th>\n",
       "      <th>weekday</th>\n",
       "      <th>workingday</th>\n",
       "      <th>weathersit</th>\n",
       "      <th>temp</th>\n",
       "      <th>atemp</th>\n",
       "      <th>hum</th>\n",
       "      <th>windspeed</th>\n",
       "      <th>rentals</th>\n",
       "    </tr>\n",
       "  </thead>\n",
       "  <tbody>\n",
       "    <tr>\n",
       "      <th>0</th>\n",
       "      <td>1</td>\n",
       "      <td>1/1/2011</td>\n",
       "      <td>1</td>\n",
       "      <td>0</td>\n",
       "      <td>1</td>\n",
       "      <td>0</td>\n",
       "      <td>6</td>\n",
       "      <td>0</td>\n",
       "      <td>2</td>\n",
       "      <td>0.344167</td>\n",
       "      <td>0.363625</td>\n",
       "      <td>0.805833</td>\n",
       "      <td>0.160446</td>\n",
       "      <td>331</td>\n",
       "    </tr>\n",
       "    <tr>\n",
       "      <th>1</th>\n",
       "      <td>2</td>\n",
       "      <td>1/2/2011</td>\n",
       "      <td>1</td>\n",
       "      <td>0</td>\n",
       "      <td>1</td>\n",
       "      <td>0</td>\n",
       "      <td>0</td>\n",
       "      <td>0</td>\n",
       "      <td>2</td>\n",
       "      <td>0.363478</td>\n",
       "      <td>0.353739</td>\n",
       "      <td>0.696087</td>\n",
       "      <td>0.248539</td>\n",
       "      <td>131</td>\n",
       "    </tr>\n",
       "    <tr>\n",
       "      <th>2</th>\n",
       "      <td>3</td>\n",
       "      <td>1/3/2011</td>\n",
       "      <td>1</td>\n",
       "      <td>0</td>\n",
       "      <td>1</td>\n",
       "      <td>0</td>\n",
       "      <td>1</td>\n",
       "      <td>1</td>\n",
       "      <td>1</td>\n",
       "      <td>0.196364</td>\n",
       "      <td>0.189405</td>\n",
       "      <td>0.437273</td>\n",
       "      <td>0.248309</td>\n",
       "      <td>120</td>\n",
       "    </tr>\n",
       "    <tr>\n",
       "      <th>3</th>\n",
       "      <td>4</td>\n",
       "      <td>1/4/2011</td>\n",
       "      <td>1</td>\n",
       "      <td>0</td>\n",
       "      <td>1</td>\n",
       "      <td>0</td>\n",
       "      <td>2</td>\n",
       "      <td>1</td>\n",
       "      <td>1</td>\n",
       "      <td>0.200000</td>\n",
       "      <td>0.212122</td>\n",
       "      <td>0.590435</td>\n",
       "      <td>0.160296</td>\n",
       "      <td>108</td>\n",
       "    </tr>\n",
       "    <tr>\n",
       "      <th>4</th>\n",
       "      <td>5</td>\n",
       "      <td>1/5/2011</td>\n",
       "      <td>1</td>\n",
       "      <td>0</td>\n",
       "      <td>1</td>\n",
       "      <td>0</td>\n",
       "      <td>3</td>\n",
       "      <td>1</td>\n",
       "      <td>1</td>\n",
       "      <td>0.226957</td>\n",
       "      <td>0.229270</td>\n",
       "      <td>0.436957</td>\n",
       "      <td>0.186900</td>\n",
       "      <td>82</td>\n",
       "    </tr>\n",
       "  </tbody>\n",
       "</table>\n",
       "</div>"
      ],
      "text/plain": [
       "   instant    dteday  season  yr  mnth  holiday  weekday  workingday  \\\n",
       "0        1  1/1/2011       1   0     1        0        6           0   \n",
       "1        2  1/2/2011       1   0     1        0        0           0   \n",
       "2        3  1/3/2011       1   0     1        0        1           1   \n",
       "3        4  1/4/2011       1   0     1        0        2           1   \n",
       "4        5  1/5/2011       1   0     1        0        3           1   \n",
       "\n",
       "   weathersit      temp     atemp       hum  windspeed  rentals  \n",
       "0           2  0.344167  0.363625  0.805833   0.160446      331  \n",
       "1           2  0.363478  0.353739  0.696087   0.248539      131  \n",
       "2           1  0.196364  0.189405  0.437273   0.248309      120  \n",
       "3           1  0.200000  0.212122  0.590435   0.160296      108  \n",
       "4           1  0.226957  0.229270  0.436957   0.186900       82  "
      ]
     },
     "execution_count": 2,
     "metadata": {},
     "output_type": "execute_result"
    }
   ],
   "source": [
    "df.head()"
   ]
  },
  {
   "cell_type": "code",
   "execution_count": 3,
   "id": "6d36106f-3a0a-4041-8e61-befda7f59924",
   "metadata": {},
   "outputs": [
    {
     "name": "stdout",
     "output_type": "stream",
     "text": [
      "<class 'pandas.core.frame.DataFrame'>\n",
      "RangeIndex: 731 entries, 0 to 730\n",
      "Data columns (total 14 columns):\n",
      " #   Column      Non-Null Count  Dtype  \n",
      "---  ------      --------------  -----  \n",
      " 0   instant     731 non-null    int64  \n",
      " 1   dteday      731 non-null    object \n",
      " 2   season      731 non-null    int64  \n",
      " 3   yr          731 non-null    int64  \n",
      " 4   mnth        731 non-null    int64  \n",
      " 5   holiday     731 non-null    int64  \n",
      " 6   weekday     731 non-null    int64  \n",
      " 7   workingday  731 non-null    int64  \n",
      " 8   weathersit  731 non-null    int64  \n",
      " 9   temp        731 non-null    float64\n",
      " 10  atemp       731 non-null    float64\n",
      " 11  hum         731 non-null    float64\n",
      " 12  windspeed   731 non-null    float64\n",
      " 13  rentals     731 non-null    int64  \n",
      "dtypes: float64(4), int64(9), object(1)\n",
      "memory usage: 80.1+ KB\n"
     ]
    }
   ],
   "source": [
    "df.info()"
   ]
  },
  {
   "cell_type": "code",
   "execution_count": 4,
   "id": "56b41a9c-38ad-4539-98ea-cfeab7e24072",
   "metadata": {},
   "outputs": [
    {
     "data": {
      "text/plain": [
       "0"
      ]
     },
     "execution_count": 4,
     "metadata": {},
     "output_type": "execute_result"
    }
   ],
   "source": [
    "df.duplicated().sum()"
   ]
  },
  {
   "cell_type": "code",
   "execution_count": 5,
   "id": "c32a3c50-0480-4eb2-9179-60610943c852",
   "metadata": {},
   "outputs": [],
   "source": [
    "# The dataset has 14 columns, 731 rows\n",
    "# No nulls detected\n",
    "# No duplicates found\n",
    "# The \"instant\" column is an incremental ID value that does not provide any predictive information and will be excluded from the dataset."
   ]
  },
  {
   "cell_type": "code",
   "execution_count": 6,
   "id": "924960ce-cf34-4a55-8284-af3bca598582",
   "metadata": {},
   "outputs": [],
   "source": [
    "#keep a copy of the original dataset before processing\n",
    "df_backup = df.copy()"
   ]
  },
  {
   "cell_type": "code",
   "execution_count": 7,
   "id": "211a7973-a5b3-4e8c-af39-1ac6e5c66db8",
   "metadata": {},
   "outputs": [],
   "source": [
    "df.drop(['instant'], axis=1, inplace=True)"
   ]
  },
  {
   "cell_type": "code",
   "execution_count": 8,
   "id": "564975f7-ed5d-46c3-bc9f-53ade3de1197",
   "metadata": {},
   "outputs": [],
   "source": [
    "# year column can be dropped as it doesn't hold any predictive value for future data.\n",
    "df.drop(['yr'], axis=1, inplace=True)"
   ]
  },
  {
   "cell_type": "code",
   "execution_count": 9,
   "id": "527becc8-ebdb-4541-8dbf-14cc448e92e6",
   "metadata": {},
   "outputs": [
    {
     "data": {
      "text/html": [
       "<div>\n",
       "<style scoped>\n",
       "    .dataframe tbody tr th:only-of-type {\n",
       "        vertical-align: middle;\n",
       "    }\n",
       "\n",
       "    .dataframe tbody tr th {\n",
       "        vertical-align: top;\n",
       "    }\n",
       "\n",
       "    .dataframe thead th {\n",
       "        text-align: right;\n",
       "    }\n",
       "</style>\n",
       "<table border=\"1\" class=\"dataframe\">\n",
       "  <thead>\n",
       "    <tr style=\"text-align: right;\">\n",
       "      <th></th>\n",
       "      <th>dteday</th>\n",
       "      <th>season</th>\n",
       "      <th>mnth</th>\n",
       "      <th>holiday</th>\n",
       "      <th>weekday</th>\n",
       "      <th>workingday</th>\n",
       "      <th>weathersit</th>\n",
       "      <th>temp</th>\n",
       "      <th>atemp</th>\n",
       "      <th>hum</th>\n",
       "      <th>windspeed</th>\n",
       "      <th>rentals</th>\n",
       "    </tr>\n",
       "  </thead>\n",
       "  <tbody>\n",
       "    <tr>\n",
       "      <th>438</th>\n",
       "      <td>3/14/2012</td>\n",
       "      <td>1</td>\n",
       "      <td>3</td>\n",
       "      <td>0</td>\n",
       "      <td>3</td>\n",
       "      <td>1</td>\n",
       "      <td>1</td>\n",
       "      <td>0.572500</td>\n",
       "      <td>0.548617</td>\n",
       "      <td>0.507083</td>\n",
       "      <td>0.115062</td>\n",
       "      <td>997</td>\n",
       "    </tr>\n",
       "    <tr>\n",
       "      <th>423</th>\n",
       "      <td>2/28/2012</td>\n",
       "      <td>1</td>\n",
       "      <td>2</td>\n",
       "      <td>0</td>\n",
       "      <td>2</td>\n",
       "      <td>1</td>\n",
       "      <td>1</td>\n",
       "      <td>0.359167</td>\n",
       "      <td>0.353525</td>\n",
       "      <td>0.395833</td>\n",
       "      <td>0.193417</td>\n",
       "      <td>229</td>\n",
       "    </tr>\n",
       "    <tr>\n",
       "      <th>708</th>\n",
       "      <td>12/9/2012</td>\n",
       "      <td>4</td>\n",
       "      <td>12</td>\n",
       "      <td>0</td>\n",
       "      <td>0</td>\n",
       "      <td>0</td>\n",
       "      <td>2</td>\n",
       "      <td>0.384167</td>\n",
       "      <td>0.390146</td>\n",
       "      <td>0.905417</td>\n",
       "      <td>0.157975</td>\n",
       "      <td>441</td>\n",
       "    </tr>\n",
       "    <tr>\n",
       "      <th>691</th>\n",
       "      <td>11/22/2012</td>\n",
       "      <td>4</td>\n",
       "      <td>11</td>\n",
       "      <td>1</td>\n",
       "      <td>4</td>\n",
       "      <td>0</td>\n",
       "      <td>1</td>\n",
       "      <td>0.340000</td>\n",
       "      <td>0.350371</td>\n",
       "      <td>0.580417</td>\n",
       "      <td>0.052871</td>\n",
       "      <td>955</td>\n",
       "    </tr>\n",
       "    <tr>\n",
       "      <th>167</th>\n",
       "      <td>6/17/2011</td>\n",
       "      <td>2</td>\n",
       "      <td>6</td>\n",
       "      <td>0</td>\n",
       "      <td>5</td>\n",
       "      <td>1</td>\n",
       "      <td>1</td>\n",
       "      <td>0.649167</td>\n",
       "      <td>0.600383</td>\n",
       "      <td>0.735833</td>\n",
       "      <td>0.143029</td>\n",
       "      <td>863</td>\n",
       "    </tr>\n",
       "    <tr>\n",
       "      <th>425</th>\n",
       "      <td>3/1/2012</td>\n",
       "      <td>1</td>\n",
       "      <td>3</td>\n",
       "      <td>0</td>\n",
       "      <td>4</td>\n",
       "      <td>1</td>\n",
       "      <td>1</td>\n",
       "      <td>0.485833</td>\n",
       "      <td>0.475371</td>\n",
       "      <td>0.615417</td>\n",
       "      <td>0.226987</td>\n",
       "      <td>325</td>\n",
       "    </tr>\n",
       "    <tr>\n",
       "      <th>598</th>\n",
       "      <td>8/21/2012</td>\n",
       "      <td>3</td>\n",
       "      <td>8</td>\n",
       "      <td>0</td>\n",
       "      <td>2</td>\n",
       "      <td>1</td>\n",
       "      <td>1</td>\n",
       "      <td>0.649167</td>\n",
       "      <td>0.601025</td>\n",
       "      <td>0.673750</td>\n",
       "      <td>0.072771</td>\n",
       "      <td>1081</td>\n",
       "    </tr>\n",
       "    <tr>\n",
       "      <th>61</th>\n",
       "      <td>3/3/2011</td>\n",
       "      <td>1</td>\n",
       "      <td>3</td>\n",
       "      <td>0</td>\n",
       "      <td>4</td>\n",
       "      <td>1</td>\n",
       "      <td>1</td>\n",
       "      <td>0.198333</td>\n",
       "      <td>0.200133</td>\n",
       "      <td>0.318333</td>\n",
       "      <td>0.225754</td>\n",
       "      <td>123</td>\n",
       "    </tr>\n",
       "    <tr>\n",
       "      <th>395</th>\n",
       "      <td>1/31/2012</td>\n",
       "      <td>1</td>\n",
       "      <td>1</td>\n",
       "      <td>0</td>\n",
       "      <td>2</td>\n",
       "      <td>1</td>\n",
       "      <td>1</td>\n",
       "      <td>0.390000</td>\n",
       "      <td>0.381317</td>\n",
       "      <td>0.416667</td>\n",
       "      <td>0.261817</td>\n",
       "      <td>324</td>\n",
       "    </tr>\n",
       "    <tr>\n",
       "      <th>331</th>\n",
       "      <td>11/28/2011</td>\n",
       "      <td>4</td>\n",
       "      <td>11</td>\n",
       "      <td>0</td>\n",
       "      <td>1</td>\n",
       "      <td>1</td>\n",
       "      <td>1</td>\n",
       "      <td>0.503478</td>\n",
       "      <td>0.490122</td>\n",
       "      <td>0.743043</td>\n",
       "      <td>0.142122</td>\n",
       "      <td>253</td>\n",
       "    </tr>\n",
       "    <tr>\n",
       "      <th>486</th>\n",
       "      <td>5/1/2012</td>\n",
       "      <td>2</td>\n",
       "      <td>5</td>\n",
       "      <td>0</td>\n",
       "      <td>2</td>\n",
       "      <td>1</td>\n",
       "      <td>2</td>\n",
       "      <td>0.613333</td>\n",
       "      <td>0.577021</td>\n",
       "      <td>0.659583</td>\n",
       "      <td>0.156096</td>\n",
       "      <td>653</td>\n",
       "    </tr>\n",
       "    <tr>\n",
       "      <th>571</th>\n",
       "      <td>7/25/2012</td>\n",
       "      <td>3</td>\n",
       "      <td>7</td>\n",
       "      <td>0</td>\n",
       "      <td>3</td>\n",
       "      <td>1</td>\n",
       "      <td>1</td>\n",
       "      <td>0.724167</td>\n",
       "      <td>0.654054</td>\n",
       "      <td>0.450000</td>\n",
       "      <td>0.164800</td>\n",
       "      <td>1383</td>\n",
       "    </tr>\n",
       "    <tr>\n",
       "      <th>155</th>\n",
       "      <td>6/5/2011</td>\n",
       "      <td>2</td>\n",
       "      <td>6</td>\n",
       "      <td>0</td>\n",
       "      <td>0</td>\n",
       "      <td>0</td>\n",
       "      <td>2</td>\n",
       "      <td>0.648333</td>\n",
       "      <td>0.616804</td>\n",
       "      <td>0.652500</td>\n",
       "      <td>0.138692</td>\n",
       "      <td>1685</td>\n",
       "    </tr>\n",
       "    <tr>\n",
       "      <th>114</th>\n",
       "      <td>4/25/2011</td>\n",
       "      <td>2</td>\n",
       "      <td>4</td>\n",
       "      <td>0</td>\n",
       "      <td>1</td>\n",
       "      <td>1</td>\n",
       "      <td>1</td>\n",
       "      <td>0.606667</td>\n",
       "      <td>0.574500</td>\n",
       "      <td>0.776667</td>\n",
       "      <td>0.185333</td>\n",
       "      <td>773</td>\n",
       "    </tr>\n",
       "    <tr>\n",
       "      <th>508</th>\n",
       "      <td>5/23/2012</td>\n",
       "      <td>2</td>\n",
       "      <td>5</td>\n",
       "      <td>0</td>\n",
       "      <td>3</td>\n",
       "      <td>1</td>\n",
       "      <td>2</td>\n",
       "      <td>0.621667</td>\n",
       "      <td>0.584612</td>\n",
       "      <td>0.774583</td>\n",
       "      <td>0.102000</td>\n",
       "      <td>766</td>\n",
       "    </tr>\n",
       "  </tbody>\n",
       "</table>\n",
       "</div>"
      ],
      "text/plain": [
       "         dteday  season  mnth  holiday  weekday  workingday  weathersit  \\\n",
       "438   3/14/2012       1     3        0        3           1           1   \n",
       "423   2/28/2012       1     2        0        2           1           1   \n",
       "708   12/9/2012       4    12        0        0           0           2   \n",
       "691  11/22/2012       4    11        1        4           0           1   \n",
       "167   6/17/2011       2     6        0        5           1           1   \n",
       "425    3/1/2012       1     3        0        4           1           1   \n",
       "598   8/21/2012       3     8        0        2           1           1   \n",
       "61     3/3/2011       1     3        0        4           1           1   \n",
       "395   1/31/2012       1     1        0        2           1           1   \n",
       "331  11/28/2011       4    11        0        1           1           1   \n",
       "486    5/1/2012       2     5        0        2           1           2   \n",
       "571   7/25/2012       3     7        0        3           1           1   \n",
       "155    6/5/2011       2     6        0        0           0           2   \n",
       "114   4/25/2011       2     4        0        1           1           1   \n",
       "508   5/23/2012       2     5        0        3           1           2   \n",
       "\n",
       "         temp     atemp       hum  windspeed  rentals  \n",
       "438  0.572500  0.548617  0.507083   0.115062      997  \n",
       "423  0.359167  0.353525  0.395833   0.193417      229  \n",
       "708  0.384167  0.390146  0.905417   0.157975      441  \n",
       "691  0.340000  0.350371  0.580417   0.052871      955  \n",
       "167  0.649167  0.600383  0.735833   0.143029      863  \n",
       "425  0.485833  0.475371  0.615417   0.226987      325  \n",
       "598  0.649167  0.601025  0.673750   0.072771     1081  \n",
       "61   0.198333  0.200133  0.318333   0.225754      123  \n",
       "395  0.390000  0.381317  0.416667   0.261817      324  \n",
       "331  0.503478  0.490122  0.743043   0.142122      253  \n",
       "486  0.613333  0.577021  0.659583   0.156096      653  \n",
       "571  0.724167  0.654054  0.450000   0.164800     1383  \n",
       "155  0.648333  0.616804  0.652500   0.138692     1685  \n",
       "114  0.606667  0.574500  0.776667   0.185333      773  \n",
       "508  0.621667  0.584612  0.774583   0.102000      766  "
      ]
     },
     "execution_count": 9,
     "metadata": {},
     "output_type": "execute_result"
    }
   ],
   "source": [
    "df.sample(15)"
   ]
  },
  {
   "cell_type": "code",
   "execution_count": 10,
   "id": "6f5964ed-5b4f-46ae-9b12-12200243d231",
   "metadata": {},
   "outputs": [],
   "source": [
    "# dteday column is fully described by yr, mnth and weekday columns, therefore can be excluded from the dataset\n",
    "df.drop(['dteday'], axis=1, inplace=True)"
   ]
  },
  {
   "cell_type": "code",
   "execution_count": 11,
   "id": "7ca08a37-08b7-44f5-b89d-a484d7aa00f1",
   "metadata": {},
   "outputs": [],
   "source": [
    "# import libraries for visualisations\n",
    "import seaborn as sns\n",
    "import matplotlib.pyplot as plt\n",
    "%matplotlib inline "
   ]
  },
  {
   "cell_type": "code",
   "execution_count": 12,
   "id": "04edbb62-2b87-481d-ace2-8fb4606a5a32",
   "metadata": {},
   "outputs": [],
   "source": [
    "# task2.Create Histogram to visualise data  for feature 'temp' and 'windspeed’,\n",
    "# and add lines for the Mean and Median on the plot.\n",
    "\n",
    "def mean_med_hist(data:pd.Series):\n",
    "    # Plotting the histogram\n",
    "    plt.hist(data)\n",
    "\n",
    "    # Calculate the mean and median\n",
    "    mean = data.mean()\n",
    "    median = data.median()\n",
    "\n",
    "    # Add lines for mean and median\n",
    "    plt.axvline(mean, color='r', linestyle='--', label='Mean')\n",
    "    plt.axvline(median, color='g', linestyle='--', label='Median')\n",
    "\n",
    "    # Adding labels, title, and legend\n",
    "    plt.xlabel('Values')\n",
    "    plt.ylabel('Frequency')\n",
    "    plt.title('Histogram')\n",
    "    plt.legend()\n",
    "\n",
    "    # Display the histogram\n",
    "    plt.show()"
   ]
  },
  {
   "cell_type": "code",
   "execution_count": 13,
   "id": "3fbbefd8-d933-4174-b525-a6c1ac1a9064",
   "metadata": {},
   "outputs": [
    {
     "name": "stdout",
     "output_type": "stream",
     "text": [
      "Temperature distribution:\n"
     ]
    },
    {
     "data": {
      "image/png": "[encoded data removed]",
      "text/plain": [
       "<Figure size 432x288 with 1 Axes>"
      ]
     },
     "metadata": {
      "needs_background": "light"
     },
     "output_type": "display_data"
    },
    {
     "name": "stdout",
     "output_type": "stream",
     "text": [
      "Windspeed distribution:\n"
     ]
    },
    {
     "data": {
      "image/png": "[encoded data removed]",
      "text/plain": [
       "<Figure size 432x288 with 1 Axes>"
      ]
     },
     "metadata": {
      "needs_background": "light"
     },
     "output_type": "display_data"
    }
   ],
   "source": [
    "print('Temperature distribution:')\n",
    "mean_med_hist(df['temp'])\n",
    "print('Windspeed distribution:')\n",
    "mean_med_hist(df['windspeed'])"
   ]
  },
  {
   "cell_type": "markdown",
   "id": "808c95e7-5294-4c2e-8bcc-106f27fc6073",
   "metadata": {},
   "source": [
    "### Discussion\n",
    "Mean and median values for temp align, showing that values are evenly distributed.\n",
    "The data has a uniform shape, although not following a normal distribution.\n",
    "The shape can be explained considering it follows observations of a two year period, \n",
    "where the tips in the plot may explain the temperatures around summer and spring."
   ]
  },
  {
   "cell_type": "markdown",
   "id": "33ab695b-2904-4d69-8380-223590bacf48",
   "metadata": {},
   "source": [
    "Windspeed values are not evenly distributed, which can be seen by the \n",
    "right skew of the distribution, and the deviation of the mean and median values from the centre."
   ]
  },
  {
   "cell_type": "markdown",
   "id": "b5cdf173-a216-4f84-8b50-b8dcce72bde1",
   "metadata": {},
   "source": [
    "# Explore relationships"
   ]
  },
  {
   "cell_type": "code",
   "execution_count": 14,
   "id": "25d49cd6-a200-4fed-a8ec-a7cc06cedcf9",
   "metadata": {},
   "outputs": [
    {
     "data": {
      "text/html": [
       "<div>\n",
       "<style scoped>\n",
       "    .dataframe tbody tr th:only-of-type {\n",
       "        vertical-align: middle;\n",
       "    }\n",
       "\n",
       "    .dataframe tbody tr th {\n",
       "        vertical-align: top;\n",
       "    }\n",
       "\n",
       "    .dataframe thead th {\n",
       "        text-align: right;\n",
       "    }\n",
       "</style>\n",
       "<table border=\"1\" class=\"dataframe\">\n",
       "  <thead>\n",
       "    <tr style=\"text-align: right;\">\n",
       "      <th></th>\n",
       "      <th>season</th>\n",
       "      <th>mnth</th>\n",
       "      <th>holiday</th>\n",
       "      <th>weekday</th>\n",
       "      <th>workingday</th>\n",
       "      <th>weathersit</th>\n",
       "      <th>temp</th>\n",
       "      <th>atemp</th>\n",
       "      <th>hum</th>\n",
       "      <th>windspeed</th>\n",
       "      <th>rentals</th>\n",
       "    </tr>\n",
       "  </thead>\n",
       "  <tbody>\n",
       "    <tr>\n",
       "      <th>season</th>\n",
       "      <td>1.000000</td>\n",
       "      <td>0.831440</td>\n",
       "      <td>-0.010537</td>\n",
       "      <td>-0.003080</td>\n",
       "      <td>0.012485</td>\n",
       "      <td>0.019211</td>\n",
       "      <td>0.334315</td>\n",
       "      <td>0.342876</td>\n",
       "      <td>0.205445</td>\n",
       "      <td>-0.229046</td>\n",
       "      <td>0.210399</td>\n",
       "    </tr>\n",
       "    <tr>\n",
       "      <th>mnth</th>\n",
       "      <td>0.831440</td>\n",
       "      <td>1.000000</td>\n",
       "      <td>0.019191</td>\n",
       "      <td>0.009509</td>\n",
       "      <td>-0.005901</td>\n",
       "      <td>0.043528</td>\n",
       "      <td>0.220205</td>\n",
       "      <td>0.227459</td>\n",
       "      <td>0.222204</td>\n",
       "      <td>-0.207502</td>\n",
       "      <td>0.123006</td>\n",
       "    </tr>\n",
       "    <tr>\n",
       "      <th>holiday</th>\n",
       "      <td>-0.010537</td>\n",
       "      <td>0.019191</td>\n",
       "      <td>1.000000</td>\n",
       "      <td>-0.101960</td>\n",
       "      <td>-0.253023</td>\n",
       "      <td>-0.034627</td>\n",
       "      <td>-0.028556</td>\n",
       "      <td>-0.032507</td>\n",
       "      <td>-0.015937</td>\n",
       "      <td>0.006292</td>\n",
       "      <td>0.054274</td>\n",
       "    </tr>\n",
       "    <tr>\n",
       "      <th>weekday</th>\n",
       "      <td>-0.003080</td>\n",
       "      <td>0.009509</td>\n",
       "      <td>-0.101960</td>\n",
       "      <td>1.000000</td>\n",
       "      <td>0.035790</td>\n",
       "      <td>0.031087</td>\n",
       "      <td>-0.000170</td>\n",
       "      <td>-0.007537</td>\n",
       "      <td>-0.052232</td>\n",
       "      <td>0.014282</td>\n",
       "      <td>0.059923</td>\n",
       "    </tr>\n",
       "    <tr>\n",
       "      <th>workingday</th>\n",
       "      <td>0.012485</td>\n",
       "      <td>-0.005901</td>\n",
       "      <td>-0.253023</td>\n",
       "      <td>0.035790</td>\n",
       "      <td>1.000000</td>\n",
       "      <td>0.061200</td>\n",
       "      <td>0.052660</td>\n",
       "      <td>0.052182</td>\n",
       "      <td>0.024327</td>\n",
       "      <td>-0.018796</td>\n",
       "      <td>-0.518044</td>\n",
       "    </tr>\n",
       "    <tr>\n",
       "      <th>weathersit</th>\n",
       "      <td>0.019211</td>\n",
       "      <td>0.043528</td>\n",
       "      <td>-0.034627</td>\n",
       "      <td>0.031087</td>\n",
       "      <td>0.061200</td>\n",
       "      <td>1.000000</td>\n",
       "      <td>-0.120602</td>\n",
       "      <td>-0.121583</td>\n",
       "      <td>0.591045</td>\n",
       "      <td>0.039511</td>\n",
       "      <td>-0.247353</td>\n",
       "    </tr>\n",
       "    <tr>\n",
       "      <th>temp</th>\n",
       "      <td>0.334315</td>\n",
       "      <td>0.220205</td>\n",
       "      <td>-0.028556</td>\n",
       "      <td>-0.000170</td>\n",
       "      <td>0.052660</td>\n",
       "      <td>-0.120602</td>\n",
       "      <td>1.000000</td>\n",
       "      <td>0.991702</td>\n",
       "      <td>0.126963</td>\n",
       "      <td>-0.157944</td>\n",
       "      <td>0.543285</td>\n",
       "    </tr>\n",
       "    <tr>\n",
       "      <th>atemp</th>\n",
       "      <td>0.342876</td>\n",
       "      <td>0.227459</td>\n",
       "      <td>-0.032507</td>\n",
       "      <td>-0.007537</td>\n",
       "      <td>0.052182</td>\n",
       "      <td>-0.121583</td>\n",
       "      <td>0.991702</td>\n",
       "      <td>1.000000</td>\n",
       "      <td>0.139988</td>\n",
       "      <td>-0.183643</td>\n",
       "      <td>0.543864</td>\n",
       "    </tr>\n",
       "    <tr>\n",
       "      <th>hum</th>\n",
       "      <td>0.205445</td>\n",
       "      <td>0.222204</td>\n",
       "      <td>-0.015937</td>\n",
       "      <td>-0.052232</td>\n",
       "      <td>0.024327</td>\n",
       "      <td>0.591045</td>\n",
       "      <td>0.126963</td>\n",
       "      <td>0.139988</td>\n",
       "      <td>1.000000</td>\n",
       "      <td>-0.248489</td>\n",
       "      <td>-0.077008</td>\n",
       "    </tr>\n",
       "    <tr>\n",
       "      <th>windspeed</th>\n",
       "      <td>-0.229046</td>\n",
       "      <td>-0.207502</td>\n",
       "      <td>0.006292</td>\n",
       "      <td>0.014282</td>\n",
       "      <td>-0.018796</td>\n",
       "      <td>0.039511</td>\n",
       "      <td>-0.157944</td>\n",
       "      <td>-0.183643</td>\n",
       "      <td>-0.248489</td>\n",
       "      <td>1.000000</td>\n",
       "      <td>-0.167613</td>\n",
       "    </tr>\n",
       "    <tr>\n",
       "      <th>rentals</th>\n",
       "      <td>0.210399</td>\n",
       "      <td>0.123006</td>\n",
       "      <td>0.054274</td>\n",
       "      <td>0.059923</td>\n",
       "      <td>-0.518044</td>\n",
       "      <td>-0.247353</td>\n",
       "      <td>0.543285</td>\n",
       "      <td>0.543864</td>\n",
       "      <td>-0.077008</td>\n",
       "      <td>-0.167613</td>\n",
       "      <td>1.000000</td>\n",
       "    </tr>\n",
       "  </tbody>\n",
       "</table>\n",
       "</div>"
      ],
      "text/plain": [
       "              season      mnth   holiday   weekday  workingday  weathersit  \\\n",
       "season      1.000000  0.831440 -0.010537 -0.003080    0.012485    0.019211   \n",
       "mnth        0.831440  1.000000  0.019191  0.009509   -0.005901    0.043528   \n",
       "holiday    -0.010537  0.019191  1.000000 -0.101960   -0.253023   -0.034627   \n",
       "weekday    -0.003080  0.009509 -0.101960  1.000000    0.035790    0.031087   \n",
       "workingday  0.012485 -0.005901 -0.253023  0.035790    1.000000    0.061200   \n",
       "weathersit  0.019211  0.043528 -0.034627  0.031087    0.061200    1.000000   \n",
       "temp        0.334315  0.220205 -0.028556 -0.000170    0.052660   -0.120602   \n",
       "atemp       0.342876  0.227459 -0.032507 -0.007537    0.052182   -0.121583   \n",
       "hum         0.205445  0.222204 -0.015937 -0.052232    0.024327    0.591045   \n",
       "windspeed  -0.229046 -0.207502  0.006292  0.014282   -0.018796    0.039511   \n",
       "rentals     0.210399  0.123006  0.054274  0.059923   -0.518044   -0.247353   \n",
       "\n",
       "                temp     atemp       hum  windspeed   rentals  \n",
       "season      0.334315  0.342876  0.205445  -0.229046  0.210399  \n",
       "mnth        0.220205  0.227459  0.222204  -0.207502  0.123006  \n",
       "holiday    -0.028556 -0.032507 -0.015937   0.006292  0.054274  \n",
       "weekday    -0.000170 -0.007537 -0.052232   0.014282  0.059923  \n",
       "workingday  0.052660  0.052182  0.024327  -0.018796 -0.518044  \n",
       "weathersit -0.120602 -0.121583  0.591045   0.039511 -0.247353  \n",
       "temp        1.000000  0.991702  0.126963  -0.157944  0.543285  \n",
       "atemp       0.991702  1.000000  0.139988  -0.183643  0.543864  \n",
       "hum         0.126963  0.139988  1.000000  -0.248489 -0.077008  \n",
       "windspeed  -0.157944 -0.183643 -0.248489   1.000000 -0.167613  \n",
       "rentals     0.543285  0.543864 -0.077008  -0.167613  1.000000  "
      ]
     },
     "execution_count": 14,
     "metadata": {},
     "output_type": "execute_result"
    }
   ],
   "source": [
    "# view correlations between features\n",
    "df.corr()"
   ]
  },
  {
   "cell_type": "code",
   "execution_count": 15,
   "id": "fc34057c-cca9-4395-ad67-4ac1d75147e0",
   "metadata": {},
   "outputs": [
    {
     "data": {
      "image/png": "[encoded data removed]",
      "text/plain": [
       "<Figure size 864x720 with 2 Axes>"
      ]
     },
     "metadata": {
      "needs_background": "light"
     },
     "output_type": "display_data"
    }
   ],
   "source": [
    "# Get a clearer view by visualising with a heatmap\n",
    "\n",
    "plt.figure(figsize=(12,10))\n",
    "sns.heatmap(df.corr(), annot=True, cbar=True, cmap='PuBu', linewidth=5, fmt=\".2f\")\n",
    "plt.show()"
   ]
  },
  {
   "cell_type": "code",
   "execution_count": 16,
   "id": "5a0f41ec-627c-4b86-b400-0ee02218d9dc",
   "metadata": {},
   "outputs": [
    {
     "data": {
      "text/plain": [
       "rentals       1.000000\n",
       "atemp         0.543864\n",
       "temp          0.543285\n",
       "season        0.210399\n",
       "mnth          0.123006\n",
       "weekday       0.059923\n",
       "holiday       0.054274\n",
       "hum          -0.077008\n",
       "windspeed    -0.167613\n",
       "weathersit   -0.247353\n",
       "workingday   -0.518044\n",
       "Name: rentals, dtype: float64"
      ]
     },
     "execution_count": 16,
     "metadata": {},
     "output_type": "execute_result"
    }
   ],
   "source": [
    "df.corr()['rentals'].sort_values(ascending=False)"
   ]
  },
  {
   "cell_type": "markdown",
   "id": "d25409e0-e163-4b00-88d9-852af5dd7a8f",
   "metadata": {},
   "source": [
    "##### The features \"temp\" and \"atemp\" demonstrate a strong correlation,\n",
    "##### which can potentially introduce multicollinearity concerns in the analysis. \n",
    "##### However, to gain a deeper understanding of the model performance and  \n",
    "##### assess its impact, both features will be retained for further exploration."
   ]
  },
  {
   "cell_type": "code",
   "execution_count": 17,
   "id": "45988591-454e-43fd-8a4e-06bfa29f188f",
   "metadata": {},
   "outputs": [],
   "source": [
    "#df.drop(['temp'], axis=1, inplace=True)"
   ]
  },
  {
   "cell_type": "code",
   "execution_count": 18,
   "id": "aa862ab1-b8f2-4633-9b8b-a82ec23d3b7f",
   "metadata": {},
   "outputs": [
    {
     "data": {
      "image/png": "[encoded data removed]",
      "text/plain": [
       "<Figure size 432x288 with 1 Axes>"
      ]
     },
     "metadata": {
      "needs_background": "light"
     },
     "output_type": "display_data"
    },
    {
     "data": {
      "image/png": "[encoded data removed]",
      "text/plain": [
       "<Figure size 432x288 with 1 Axes>"
      ]
     },
     "metadata": {
      "needs_background": "light"
     },
     "output_type": "display_data"
    }
   ],
   "source": [
    "# search for outliers in non-binary/categorical columns\n",
    "for column in df[['windspeed', 'rentals']]:\n",
    "    # Create a box plot for the current feature\n",
    "    plt.figure()  # Create a new figure for each box plot\n",
    "    plt.boxplot(df[column])\n",
    "    plt.title(column)  # Set the title of the box plot as the feature name\n",
    "    plt.show()  # Display the box plot"
   ]
  },
  {
   "cell_type": "markdown",
   "id": "dc514222-6656-4e6c-87f9-0e53181c5f9b",
   "metadata": {},
   "source": [
    "Both features exhibit a skewed distribution, with a noticeable presence of outliers"
   ]
  },
  {
   "cell_type": "code",
   "execution_count": 19,
   "id": "11885764-7966-43be-b625-64bd4695cdea",
   "metadata": {},
   "outputs": [],
   "source": [
    "from scipy.stats.mstats import winsorize"
   ]
  },
  {
   "cell_type": "code",
   "execution_count": 20,
   "id": "5ab61d89-3a36-4524-be9a-c80d27c3c26b",
   "metadata": {},
   "outputs": [],
   "source": [
    "# handle outliers via winsorisation (reduce values within acceptable range) \n",
    "df.windspeed = winsorize(df['windspeed'], limits=[0, 0.1])"
   ]
  },
  {
   "cell_type": "code",
   "execution_count": 21,
   "id": "b1077b1a-d92d-474f-800d-a782a698e423",
   "metadata": {},
   "outputs": [],
   "source": [
    "df.rentals = winsorize(df['rentals'], limits=[0, 0.1])"
   ]
  },
  {
   "cell_type": "code",
   "execution_count": 22,
   "id": "efda265f-7c7a-4c29-aeb4-e28bac26b186",
   "metadata": {},
   "outputs": [
    {
     "data": {
      "image/png": "[encoded data removed]",
      "text/plain": [
       "<Figure size 432x288 with 1 Axes>"
      ]
     },
     "metadata": {
      "needs_background": "light"
     },
     "output_type": "display_data"
    },
    {
     "data": {
      "image/png": "[encoded data removed]",
      "text/plain": [
       "<Figure size 432x288 with 1 Axes>"
      ]
     },
     "metadata": {
      "needs_background": "light"
     },
     "output_type": "display_data"
    }
   ],
   "source": [
    "# ensure outliers have been treated\n",
    "for column in df[['windspeed', 'rentals']]:\n",
    "    plt.figure() \n",
    "    plt.boxplot(df[column])\n",
    "    plt.title(column) \n",
    "    plt.show()"
   ]
  },
  {
   "cell_type": "code",
   "execution_count": 23,
   "id": "e46e9c29-863b-4bc0-9c9d-fcc06e3f21a3",
   "metadata": {},
   "outputs": [],
   "source": [
    "#### Create interaction feature to explore non-working day with high temperature relationship"
   ]
  },
  {
   "cell_type": "code",
   "execution_count": 24,
   "id": "11254056-d947-41f3-b042-2359b4c56565",
   "metadata": {},
   "outputs": [],
   "source": [
    "#create \"non-working day\" feature by reversing the values of working day\n",
    "nonworkingday = df['workingday'].apply(lambda x: 1 - x)\n",
    "#interraction term\n",
    "df['nonwork_temp_interaction'] = nonworkingday * df['atemp']"
   ]
  },
  {
   "cell_type": "code",
   "execution_count": 25,
   "id": "67f0d1f0-ec43-4f18-b2ed-fb815603f239",
   "metadata": {},
   "outputs": [
    {
     "data": {
      "image/png": "[encoded data removed]",
      "text/plain": [
       "<Figure size 432x288 with 1 Axes>"
      ]
     },
     "metadata": {
      "needs_background": "light"
     },
     "output_type": "display_data"
    }
   ],
   "source": [
    "df.plot.scatter(x='nonwork_temp_interaction', y='rentals')\n",
    "\n",
    "plt.xlabel('nonworking-temp interaction')  # Specify the label for the x-axis\n",
    "plt.ylabel('rentals')  # Specify the label for the y-axis\n",
    "plt.show()"
   ]
  },
  {
   "cell_type": "markdown",
   "id": "d6c1256a-e6a2-41b8-ba4f-b7916766abd6",
   "metadata": {},
   "source": [
    "The relationship depicted in the above diagram may appear complex to interpret. However, it is evident that the non-zero values of the interaction feature, which represent non-working days with various average temperatures, show an almost linear patern with rentals as the average temperatures increase."
   ]
  },
  {
   "cell_type": "code",
   "execution_count": 26,
   "id": "74fafb13-26d1-418c-b079-4e7934f95520",
   "metadata": {},
   "outputs": [
    {
     "data": {
      "image/png": "[encoded data removed]",
      "text/plain": [
       "<Figure size 432x288 with 1 Axes>"
      ]
     },
     "metadata": {
      "needs_background": "light"
     },
     "output_type": "display_data"
    }
   ],
   "source": [
    "plt.boxplot(df['nonwork_temp_interaction'])\n",
    "plt.title('nonwork_temp_interaction outliers')  # Set the title of the box plot as the feature name\n",
    "plt.show()  # Display the box plot"
   ]
  },
  {
   "cell_type": "code",
   "execution_count": 27,
   "id": "886cba4d-cd9e-4315-b3ba-9a3f240b599a",
   "metadata": {},
   "outputs": [],
   "source": [
    "df.nonwork_temp_interaction = winsorize(df['nonwork_temp_interaction'], limits=[0, 0.1])"
   ]
  },
  {
   "cell_type": "code",
   "execution_count": 28,
   "id": "b63cd48a-b097-4b46-8990-c51425816d2a",
   "metadata": {},
   "outputs": [
    {
     "data": {
      "text/plain": [
       "rentals                     1.000000\n",
       "nonwork_temp_interaction    0.656414\n",
       "atemp                       0.608720\n",
       "temp                        0.608718\n",
       "season                      0.249619\n",
       "mnth                        0.151078\n",
       "holiday                     0.045484\n",
       "weekday                     0.044510\n",
       "hum                        -0.072554\n",
       "windspeed                  -0.165560\n",
       "weathersit                 -0.273851\n",
       "workingday                 -0.494498\n",
       "Name: rentals, dtype: float64"
      ]
     },
     "execution_count": 28,
     "metadata": {},
     "output_type": "execute_result"
    }
   ],
   "source": [
    "df.corr()['rentals'].sort_values(ascending=False)"
   ]
  },
  {
   "cell_type": "code",
   "execution_count": 29,
   "id": "f6e391db-ce3c-47ca-9e8c-17b15feab212",
   "metadata": {},
   "outputs": [
    {
     "data": {
      "text/plain": [
       "<seaborn.axisgrid.PairGrid at 0x235c994b790>"
      ]
     },
     "execution_count": 29,
     "metadata": {},
     "output_type": "execute_result"
    },
    {
     "data": {
      "image/png": "[encoded data removed]",
      "text/plain": [
       "<Figure size 691.2x691.2 with 27 Axes>"
      ]
     },
     "metadata": {
      "needs_background": "light"
     },
     "output_type": "display_data"
    }
   ],
   "source": [
    "sns.pairplot(df[['windspeed', 'rentals', 'workingday', 'temp', 'atemp', 'nonwork_temp_interaction']],corner=True, height=1.6)"
   ]
  },
  {
   "cell_type": "code",
   "execution_count": 30,
   "id": "637b63f2-12dc-4607-8bfd-27f94d6dec3f",
   "metadata": {},
   "outputs": [],
   "source": [
    "# task 3.Separate feature and target\n",
    "y = df['rentals']\n",
    "X = df.drop(['rentals'], axis=1)"
   ]
  },
  {
   "cell_type": "code",
   "execution_count": 31,
   "id": "24e4bd48-0939-4acd-ae89-378d3cd4e509",
   "metadata": {},
   "outputs": [],
   "source": [
    "# task 4.Split 70% data for training and 30% testing. \n",
    "from sklearn.model_selection import train_test_split"
   ]
  },
  {
   "cell_type": "code",
   "execution_count": 32,
   "id": "d3961815-ac4c-4a4e-a70b-95616f13a37d",
   "metadata": {},
   "outputs": [],
   "source": [
    "X_train, X_test, y_train, y_test = train_test_split(X, y, test_size=.3)"
   ]
  },
  {
   "cell_type": "code",
   "execution_count": 33,
   "id": "b1f17383-f50c-44ec-89ae-fdce2bbf0f75",
   "metadata": {},
   "outputs": [],
   "source": [
    "# 5. Use suitable machine learning techniques to model the data set"
   ]
  },
  {
   "cell_type": "code",
   "execution_count": 34,
   "id": "2662ba79-8d2f-457f-8eb5-c00390708dfc",
   "metadata": {},
   "outputs": [],
   "source": [
    "from sklearn.linear_model import LinearRegression"
   ]
  },
  {
   "cell_type": "code",
   "execution_count": 35,
   "id": "aae5faed-acde-4165-9181-826254bde2bf",
   "metadata": {},
   "outputs": [],
   "source": [
    "# create Linear Regression model and train it\n",
    "lr_model = LinearRegression()"
   ]
  },
  {
   "cell_type": "code",
   "execution_count": 36,
   "id": "db3be70a-f919-4efd-9899-8ac6d5e66760",
   "metadata": {},
   "outputs": [
    {
     "data": {
      "text/html": [
       "<style>#sk-container-id-1 {color: black;background-color: white;}#sk-container-id-1 pre{padding: 0;}#sk-container-id-1 div.sk-toggleable {background-color: white;}#sk-container-id-1 label.sk-toggleable__label {cursor: pointer;display: block;width: 100%;margin-bottom: 0;padding: 0.3em;box-sizing: border-box;text-align: center;}#sk-container-id-1 label.sk-toggleable__label-arrow:before {content: \"▸\";float: left;margin-right: 0.25em;color: #696969;}#sk-container-id-1 label.sk-toggleable__label-arrow:hover:before {color: black;}#sk-container-id-1 div.sk-estimator:hover label.sk-toggleable__label-arrow:before {color: black;}#sk-container-id-1 div.sk-toggleable__content {max-height: 0;max-width: 0;overflow: hidden;text-align: left;background-color: #f0f8ff;}#sk-container-id-1 div.sk-toggleable__content pre {margin: 0.2em;color: black;border-radius: 0.25em;background-color: #f0f8ff;}#sk-container-id-1 input.sk-toggleable__control:checked~div.sk-toggleable__content {max-height: 200px;max-width: 100%;overflow: auto;}#sk-container-id-1 input.sk-toggleable__control:checked~label.sk-toggleable__label-arrow:before {content: \"▾\";}#sk-container-id-1 div.sk-estimator input.sk-toggleable__control:checked~label.sk-toggleable__label {background-color: #d4ebff;}#sk-container-id-1 div.sk-label input.sk-toggleable__control:checked~label.sk-toggleable__label {background-color: #d4ebff;}#sk-container-id-1 input.sk-hidden--visually {border: 0;clip: rect(1px 1px 1px 1px);clip: rect(1px, 1px, 1px, 1px);height: 1px;margin: -1px;overflow: hidden;padding: 0;position: absolute;width: 1px;}#sk-container-id-1 div.sk-estimator {font-family: monospace;background-color: #f0f8ff;border: 1px dotted black;border-radius: 0.25em;box-sizing: border-box;margin-bottom: 0.5em;}#sk-container-id-1 div.sk-estimator:hover {background-color: #d4ebff;}#sk-container-id-1 div.sk-parallel-item::after {content: \"\";width: 100%;border-bottom: 1px solid gray;flex-grow: 1;}#sk-container-id-1 div.sk-label:hover label.sk-toggleable__label {background-color: #d4ebff;}#sk-container-id-1 div.sk-serial::before {content: \"\";position: absolute;border-left: 1px solid gray;box-sizing: border-box;top: 0;bottom: 0;left: 50%;z-index: 0;}#sk-container-id-1 div.sk-serial {display: flex;flex-direction: column;align-items: center;background-color: white;padding-right: 0.2em;padding-left: 0.2em;position: relative;}#sk-container-id-1 div.sk-item {position: relative;z-index: 1;}#sk-container-id-1 div.sk-parallel {display: flex;align-items: stretch;justify-content: center;background-color: white;position: relative;}#sk-container-id-1 div.sk-item::before, #sk-container-id-1 div.sk-parallel-item::before {content: \"\";position: absolute;border-left: 1px solid gray;box-sizing: border-box;top: 0;bottom: 0;left: 50%;z-index: -1;}#sk-container-id-1 div.sk-parallel-item {display: flex;flex-direction: column;z-index: 1;position: relative;background-color: white;}#sk-container-id-1 div.sk-parallel-item:first-child::after {align-self: flex-end;width: 50%;}#sk-container-id-1 div.sk-parallel-item:last-child::after {align-self: flex-start;width: 50%;}#sk-container-id-1 div.sk-parallel-item:only-child::after {width: 0;}#sk-container-id-1 div.sk-dashed-wrapped {border: 1px dashed gray;margin: 0 0.4em 0.5em 0.4em;box-sizing: border-box;padding-bottom: 0.4em;background-color: white;}#sk-container-id-1 div.sk-label label {font-family: monospace;font-weight: bold;display: inline-block;line-height: 1.2em;}#sk-container-id-1 div.sk-label-container {text-align: center;}#sk-container-id-1 div.sk-container {/* jupyter's `normalize.less` sets `[hidden] { display: none; }` but bootstrap.min.css set `[hidden] { display: none !important; }` so we also need the `!important` here to be able to override the default hidden behavior on the sphinx rendered scikit-learn.org. See: https://github.com/scikit-learn/scikit-learn/issues/21755 */display: inline-block !important;position: relative;}#sk-container-id-1 div.sk-text-repr-fallback {display: none;}</style><div id=\"sk-container-id-1\" class=\"sk-top-container\"><div class=\"sk-text-repr-fallback\"><pre>LinearRegression()</pre><b>In a Jupyter environment, please rerun this cell to show the HTML representation or trust the notebook. <br />On GitHub, the HTML representation is unable to render, please try loading this page with nbviewer.org.</b></div><div class=\"sk-container\" hidden><div class=\"sk-item\"><div class=\"sk-estimator sk-toggleable\"><input class=\"sk-toggleable__control sk-hidden--visually\" id=\"sk-estimator-id-1\" type=\"checkbox\" checked><label for=\"sk-estimator-id-1\" class=\"sk-toggleable__label sk-toggleable__label-arrow\">LinearRegression</label><div class=\"sk-toggleable__content\"><pre>LinearRegression()</pre></div></div></div></div></div>"
      ],
      "text/plain": [
       "LinearRegression()"
      ]
     },
     "execution_count": 36,
     "metadata": {},
     "output_type": "execute_result"
    }
   ],
   "source": [
    "lr_model.fit(X_train, y_train)"
   ]
  },
  {
   "cell_type": "code",
   "execution_count": 37,
   "id": "e4000caf-321f-4443-8486-75d94081a0e0",
   "metadata": {},
   "outputs": [],
   "source": [
    "#assign predicted values to variable\n",
    "y_pred = lr_model.predict(X_test)"
   ]
  },
  {
   "cell_type": "code",
   "execution_count": 38,
   "id": "fbd4349b-09e7-4785-9e06-36a9cbabf587",
   "metadata": {},
   "outputs": [],
   "source": [
    "from sklearn.metrics import mean_squared_error, mean_absolute_error, r2_score, explained_variance_score"
   ]
  },
  {
   "cell_type": "code",
   "execution_count": 39,
   "id": "fe67e36f-6d3f-4b65-a436-a263a02f9878",
   "metadata": {},
   "outputs": [],
   "source": [
    "# create function for model metrics\n",
    "def print_model_metrics(y_test, y_pred):\n",
    "\n",
    "    mse = mean_squared_error(y_test, y_pred)\n",
    "    mae = mean_absolute_error(y_test, y_pred)\n",
    "    r2 = r2_score(y_test, y_pred)\n",
    "    explained_variance = explained_variance_score(y_test, y_pred)\n",
    "    print(f'mean squared error: {mse}')\n",
    "    print(f'mean absolute error: {mae}')\n",
    "    print(f'R2 score: {r2}')\n",
    "    print(f'explained variance: {explained_variance}')"
   ]
  },
  {
   "cell_type": "code",
   "execution_count": 40,
   "id": "a8cf7f8e-a2fc-4b4a-9c94-5a9081f4248c",
   "metadata": {},
   "outputs": [
    {
     "name": "stdout",
     "output_type": "stream",
     "text": [
      "mean squared error: 65793.24855425056\n",
      "mean absolute error: 197.41462480085116\n",
      "R2 score: 0.7917111896593119\n",
      "explained variance: 0.7935999598753529\n"
     ]
    }
   ],
   "source": [
    "print_model_metrics(y_test, y_pred)"
   ]
  },
  {
   "cell_type": "markdown",
   "id": "82dfd270-61e3-419f-93fd-21c98c07de5e",
   "metadata": {
    "tags": []
   },
   "source": [
    "# discussion\n",
    "\n",
    "    Mean Squared Error (MSE): The model has an MSE of 86315.78, \n",
    "    which indicates the average squared difference between the predicted and actual values is relatively high.\n",
    "\n",
    "    Mean Absolute Error (MAE): The model has an MAE of 211,\n",
    "    which represents the average absolute difference between the predicted and actual values. \n",
    "    On average, the predicted values deviate from the actual values by approximately 211 units.\n",
    "\n",
    "    R-squared (R2) Score: The R-squared score is 0.72, which means that approximately 72% of\n",
    "    the variance in the dependent variable can be explained by the independent variables included in the model.\n",
    "    This indicates a moderate level of predictive power.\n",
    "\n",
    "    Explained Variance Score: The explained variance score is 0.72,\n",
    "    indicating that around 72% of the variance in the dependent variable is explained by the independent variables.\n",
    "    This metric provides a similar interpretation to the R-squared score.\n"
   ]
  },
  {
   "cell_type": "markdown",
   "id": "9e2164fb-6e14-4b83-b0f0-bba659654745",
   "metadata": {},
   "source": [
    "### Test model with normalised data"
   ]
  },
  {
   "cell_type": "code",
   "execution_count": 41,
   "id": "fb1ae09f-5340-40c9-8ba9-204eccf2166e",
   "metadata": {},
   "outputs": [],
   "source": [
    "from sklearn.preprocessing import StandardScaler, MinMaxScaler, RobustScaler, MaxAbsScaler"
   ]
  },
  {
   "cell_type": "code",
   "execution_count": 42,
   "id": "8a389f03-8f31-4127-bb2c-f0354af026fb",
   "metadata": {},
   "outputs": [],
   "source": [
    "# normalise data by subtracting the median and deviding by IQR\n",
    "# suitable for datasets that contain outliers or have non-normal distributions\n",
    "scaler = RobustScaler()\n",
    "X_normalised = scaler.fit_transform(X)"
   ]
  },
  {
   "cell_type": "code",
   "execution_count": 43,
   "id": "708e6a00-758b-469a-8cb0-4c45daf77fdc",
   "metadata": {},
   "outputs": [],
   "source": [
    "X_train, X_test, y_train, y_test = train_test_split(X_normalised, y, test_size=.3)"
   ]
  },
  {
   "cell_type": "code",
   "execution_count": 44,
   "id": "2ffc0cc1-7339-4ec1-a62e-e0d343e2e596",
   "metadata": {},
   "outputs": [
    {
     "data": {
      "text/html": [
       "<style>#sk-container-id-2 {color: black;background-color: white;}#sk-container-id-2 pre{padding: 0;}#sk-container-id-2 div.sk-toggleable {background-color: white;}#sk-container-id-2 label.sk-toggleable__label {cursor: pointer;display: block;width: 100%;margin-bottom: 0;padding: 0.3em;box-sizing: border-box;text-align: center;}#sk-container-id-2 label.sk-toggleable__label-arrow:before {content: \"▸\";float: left;margin-right: 0.25em;color: #696969;}#sk-container-id-2 label.sk-toggleable__label-arrow:hover:before {color: black;}#sk-container-id-2 div.sk-estimator:hover label.sk-toggleable__label-arrow:before {color: black;}#sk-container-id-2 div.sk-toggleable__content {max-height: 0;max-width: 0;overflow: hidden;text-align: left;background-color: #f0f8ff;}#sk-container-id-2 div.sk-toggleable__content pre {margin: 0.2em;color: black;border-radius: 0.25em;background-color: #f0f8ff;}#sk-container-id-2 input.sk-toggleable__control:checked~div.sk-toggleable__content {max-height: 200px;max-width: 100%;overflow: auto;}#sk-container-id-2 input.sk-toggleable__control:checked~label.sk-toggleable__label-arrow:before {content: \"▾\";}#sk-container-id-2 div.sk-estimator input.sk-toggleable__control:checked~label.sk-toggleable__label {background-color: #d4ebff;}#sk-container-id-2 div.sk-label input.sk-toggleable__control:checked~label.sk-toggleable__label {background-color: #d4ebff;}#sk-container-id-2 input.sk-hidden--visually {border: 0;clip: rect(1px 1px 1px 1px);clip: rect(1px, 1px, 1px, 1px);height: 1px;margin: -1px;overflow: hidden;padding: 0;position: absolute;width: 1px;}#sk-container-id-2 div.sk-estimator {font-family: monospace;background-color: #f0f8ff;border: 1px dotted black;border-radius: 0.25em;box-sizing: border-box;margin-bottom: 0.5em;}#sk-container-id-2 div.sk-estimator:hover {background-color: #d4ebff;}#sk-container-id-2 div.sk-parallel-item::after {content: \"\";width: 100%;border-bottom: 1px solid gray;flex-grow: 1;}#sk-container-id-2 div.sk-label:hover label.sk-toggleable__label {background-color: #d4ebff;}#sk-container-id-2 div.sk-serial::before {content: \"\";position: absolute;border-left: 1px solid gray;box-sizing: border-box;top: 0;bottom: 0;left: 50%;z-index: 0;}#sk-container-id-2 div.sk-serial {display: flex;flex-direction: column;align-items: center;background-color: white;padding-right: 0.2em;padding-left: 0.2em;position: relative;}#sk-container-id-2 div.sk-item {position: relative;z-index: 1;}#sk-container-id-2 div.sk-parallel {display: flex;align-items: stretch;justify-content: center;background-color: white;position: relative;}#sk-container-id-2 div.sk-item::before, #sk-container-id-2 div.sk-parallel-item::before {content: \"\";position: absolute;border-left: 1px solid gray;box-sizing: border-box;top: 0;bottom: 0;left: 50%;z-index: -1;}#sk-container-id-2 div.sk-parallel-item {display: flex;flex-direction: column;z-index: 1;position: relative;background-color: white;}#sk-container-id-2 div.sk-parallel-item:first-child::after {align-self: flex-end;width: 50%;}#sk-container-id-2 div.sk-parallel-item:last-child::after {align-self: flex-start;width: 50%;}#sk-container-id-2 div.sk-parallel-item:only-child::after {width: 0;}#sk-container-id-2 div.sk-dashed-wrapped {border: 1px dashed gray;margin: 0 0.4em 0.5em 0.4em;box-sizing: border-box;padding-bottom: 0.4em;background-color: white;}#sk-container-id-2 div.sk-label label {font-family: monospace;font-weight: bold;display: inline-block;line-height: 1.2em;}#sk-container-id-2 div.sk-label-container {text-align: center;}#sk-container-id-2 div.sk-container {/* jupyter's `normalize.less` sets `[hidden] { display: none; }` but bootstrap.min.css set `[hidden] { display: none !important; }` so we also need the `!important` here to be able to override the default hidden behavior on the sphinx rendered scikit-learn.org. See: https://github.com/scikit-learn/scikit-learn/issues/21755 */display: inline-block !important;position: relative;}#sk-container-id-2 div.sk-text-repr-fallback {display: none;}</style><div id=\"sk-container-id-2\" class=\"sk-top-container\"><div class=\"sk-text-repr-fallback\"><pre>LinearRegression()</pre><b>In a Jupyter environment, please rerun this cell to show the HTML representation or trust the notebook. <br />On GitHub, the HTML representation is unable to render, please try loading this page with nbviewer.org.</b></div><div class=\"sk-container\" hidden><div class=\"sk-item\"><div class=\"sk-estimator sk-toggleable\"><input class=\"sk-toggleable__control sk-hidden--visually\" id=\"sk-estimator-id-2\" type=\"checkbox\" checked><label for=\"sk-estimator-id-2\" class=\"sk-toggleable__label sk-toggleable__label-arrow\">LinearRegression</label><div class=\"sk-toggleable__content\"><pre>LinearRegression()</pre></div></div></div></div></div>"
      ],
      "text/plain": [
       "LinearRegression()"
      ]
     },
     "execution_count": 44,
     "metadata": {},
     "output_type": "execute_result"
    }
   ],
   "source": [
    "lr_model.fit(X_train, y_train)"
   ]
  },
  {
   "cell_type": "code",
   "execution_count": 45,
   "id": "0de2f74c-c84e-4f34-89fd-c2432b699b4c",
   "metadata": {},
   "outputs": [],
   "source": [
    "y_pred = lr_model.predict(X_test)"
   ]
  },
  {
   "cell_type": "code",
   "execution_count": 46,
   "id": "f65a5a75-8004-4c4f-bfd8-3f8dfc83563e",
   "metadata": {},
   "outputs": [
    {
     "name": "stdout",
     "output_type": "stream",
     "text": [
      "mean squared error: 82702.7923560364\n",
      "mean absolute error: 215.0005485549423\n",
      "R2 score: 0.7225945903432112\n",
      "explained variance: 0.7258158618714718\n"
     ]
    }
   ],
   "source": [
    "print_model_metrics(y_test, y_pred)"
   ]
  },
  {
   "cell_type": "code",
   "execution_count": 47,
   "id": "0de32679-478a-4345-ab0c-d698f1cdad2a",
   "metadata": {},
   "outputs": [
    {
     "data": {
      "text/html": [
       "<div>\n",
       "<style scoped>\n",
       "    .dataframe tbody tr th:only-of-type {\n",
       "        vertical-align: middle;\n",
       "    }\n",
       "\n",
       "    .dataframe tbody tr th {\n",
       "        vertical-align: top;\n",
       "    }\n",
       "\n",
       "    .dataframe thead th {\n",
       "        text-align: right;\n",
       "    }\n",
       "</style>\n",
       "<table border=\"1\" class=\"dataframe\">\n",
       "  <thead>\n",
       "    <tr style=\"text-align: right;\">\n",
       "      <th></th>\n",
       "      <th>Feature</th>\n",
       "      <th>Coefficient</th>\n",
       "    </tr>\n",
       "  </thead>\n",
       "  <tbody>\n",
       "    <tr>\n",
       "      <th>0</th>\n",
       "      <td>season</td>\n",
       "      <td>61.539170</td>\n",
       "    </tr>\n",
       "    <tr>\n",
       "      <th>1</th>\n",
       "      <td>mnth</td>\n",
       "      <td>-90.428540</td>\n",
       "    </tr>\n",
       "    <tr>\n",
       "      <th>2</th>\n",
       "      <td>holiday</td>\n",
       "      <td>-231.481563</td>\n",
       "    </tr>\n",
       "    <tr>\n",
       "      <th>3</th>\n",
       "      <td>weekday</td>\n",
       "      <td>40.489797</td>\n",
       "    </tr>\n",
       "    <tr>\n",
       "      <th>4</th>\n",
       "      <td>workingday</td>\n",
       "      <td>320.030519</td>\n",
       "    </tr>\n",
       "    <tr>\n",
       "      <th>5</th>\n",
       "      <td>weathersit</td>\n",
       "      <td>-84.906245</td>\n",
       "    </tr>\n",
       "    <tr>\n",
       "      <th>6</th>\n",
       "      <td>temp</td>\n",
       "      <td>-126.266305</td>\n",
       "    </tr>\n",
       "    <tr>\n",
       "      <th>7</th>\n",
       "      <td>atemp</td>\n",
       "      <td>516.565340</td>\n",
       "    </tr>\n",
       "    <tr>\n",
       "      <th>8</th>\n",
       "      <td>hum</td>\n",
       "      <td>-98.072995</td>\n",
       "    </tr>\n",
       "    <tr>\n",
       "      <th>9</th>\n",
       "      <td>windspeed</td>\n",
       "      <td>-66.381915</td>\n",
       "    </tr>\n",
       "    <tr>\n",
       "      <th>10</th>\n",
       "      <td>nonwork_temp_interaction</td>\n",
       "      <td>675.524918</td>\n",
       "    </tr>\n",
       "  </tbody>\n",
       "</table>\n",
       "</div>"
      ],
      "text/plain": [
       "                     Feature  Coefficient\n",
       "0                     season    61.539170\n",
       "1                       mnth   -90.428540\n",
       "2                    holiday  -231.481563\n",
       "3                    weekday    40.489797\n",
       "4                 workingday   320.030519\n",
       "5                 weathersit   -84.906245\n",
       "6                       temp  -126.266305\n",
       "7                      atemp   516.565340\n",
       "8                        hum   -98.072995\n",
       "9                  windspeed   -66.381915\n",
       "10  nonwork_temp_interaction   675.524918"
      ]
     },
     "execution_count": 47,
     "metadata": {},
     "output_type": "execute_result"
    }
   ],
   "source": [
    "coefficients = lr_model.coef_\n",
    "coefficients_df = pd.DataFrame({'Feature': X.columns, 'Coefficient': coefficients})\n",
    "coefficients_df"
   ]
  },
  {
   "cell_type": "code",
   "execution_count": 137,
   "id": "cabdf5be-7b5a-405d-aa94-ea57d5375dbb",
   "metadata": {},
   "outputs": [],
   "source": [
    "# work with a copy of the original dataset\n",
    "df2 = df.copy()\n",
    "# drop correlated independent feature to reduce multicollinearity\n",
    "df2.drop(['temp'], axis=1, inplace=True)\n",
    "# assign X and y variables\n",
    "y = df2['rentals']\n",
    "X = df2.drop(['rentals'], axis=1)\n",
    "# normalise independent features\n",
    "X_normalised = scaler.fit_transform(X)\n",
    "# split the data, set test size to 30%\n",
    "X_train, X_test, y_train, y_test = train_test_split(X_normalised, y, test_size=.3, random_state=433)"
   ]
  },
  {
   "cell_type": "code",
   "execution_count": 49,
   "id": "c62e2083-b479-4dea-b0a5-d6ddedcd386b",
   "metadata": {},
   "outputs": [],
   "source": [
    "# Try additional regression models\n",
    "from sklearn.linear_model import ElasticNet\n",
    "from sklearn.model_selection import GridSearchCV"
   ]
  },
  {
   "cell_type": "code",
   "execution_count": 50,
   "id": "8385700d-4115-48c8-b66f-a8e878647214",
   "metadata": {},
   "outputs": [],
   "source": [
    "\n",
    "# Define the parameter grid\n",
    "param_grid = {\n",
    "    # strength of regularisation\n",
    "    'alpha': [0.001, 0.01, 0.1, 1.0, 10.0], \n",
    "    # ration between L1 and L2 regularisation. 0 = purely L2\n",
    "    'l1_ratio': [0.1, 0.5, 0.9, 1]\n",
    "}\n",
    "elastic_net = ElasticNet()"
   ]
  },
  {
   "cell_type": "code",
   "execution_count": 51,
   "id": "9a7c2b38-fa36-43f4-b9dd-9db8b4151261",
   "metadata": {},
   "outputs": [
    {
     "name": "stdout",
     "output_type": "stream",
     "text": [
      "Best alpha: 1.0\n",
      "Best l1_ratio: 1\n"
     ]
    }
   ],
   "source": [
    "grid_search = GridSearchCV(estimator=elastic_net, param_grid=param_grid, cv=10)\n",
    "\n",
    "# Fit the model to the data\n",
    "grid_search.fit(X_normalised, y)\n",
    "\n",
    "# Print the best hyperparameters\n",
    "print(\"Best alpha:\", grid_search.best_params_['alpha'])\n",
    "print(\"Best l1_ratio:\", grid_search.best_params_['l1_ratio'])"
   ]
  },
  {
   "cell_type": "code",
   "execution_count": 52,
   "id": "ed251069-6f56-4b43-8f55-48b7ac89244f",
   "metadata": {},
   "outputs": [],
   "source": [
    "best_model = grid_search.best_estimator_\n",
    "y_pred = best_model.predict(X_test)"
   ]
  },
  {
   "cell_type": "code",
   "execution_count": 53,
   "id": "19d91fae-383a-4a9a-9579-917741b088ac",
   "metadata": {},
   "outputs": [
    {
     "name": "stdout",
     "output_type": "stream",
     "text": [
      "mean squared error: 64402.234756163365\n",
      "mean absolute error: 183.38191228410076\n",
      "R2 score: 0.7030469545174085\n",
      "explained variance: 0.7030712679497264\n"
     ]
    }
   ],
   "source": [
    "print_model_metrics(y_pred, y_test)"
   ]
  },
  {
   "cell_type": "code",
   "execution_count": 54,
   "id": "56f84a3f-0b89-40c2-ab52-fd6657930544",
   "metadata": {},
   "outputs": [],
   "source": [
    "# import required libraries\n",
    "from sklearn.linear_model import Ridge\n",
    "from sklearn.model_selection import GridSearchCV"
   ]
  },
  {
   "cell_type": "code",
   "execution_count": 55,
   "id": "3234d5ce-d3c1-4b9f-b2ca-43c7fcea2cb0",
   "metadata": {},
   "outputs": [],
   "source": [
    "# Define the Ridge Regression model\n",
    "ridge = Ridge()\n",
    "\n",
    "# Define the hyperparameters to search over\n",
    "param_grid = {\n",
    "    # regularisation strength range\n",
    "    'alpha': [0, 0.1, 1.0, 10.0],\n",
    "    # solver algorithms set\n",
    "    'solver': ['auto', 'svd', 'cholesky', 'lsqr', 'sparse_cg', 'sag', 'saga']\n",
    "}\n",
    "\n",
    "# Perform grid search using cross-validation over 5 folds\n",
    "grid_search = GridSearchCV(ridge, param_grid, cv=5, scoring='neg_mean_squared_error')\n",
    "grid_search.fit(X_normalised, y)\n",
    "\n",
    "# Get the best Ridge Regression model\n",
    "best_ridge_model = grid_search.best_estimator_\n",
    "\n",
    "# Make predictions on the test set\n",
    "y_pred = best_ridge_model.predict(X_test)\n",
    "\n",
    "# Evaluate the model\n",
    "mse = mean_squared_error(y_test, y_pred)"
   ]
  },
  {
   "cell_type": "code",
   "execution_count": 56,
   "id": "d14b7bc2-b5bc-44e3-8b67-4e517bcbace8",
   "metadata": {},
   "outputs": [
    {
     "name": "stdout",
     "output_type": "stream",
     "text": [
      "mean squared error: 64265.51274382316\n",
      "mean absolute error: 183.25956036940224\n",
      "R2 score: 0.7893274842193094\n",
      "explained variance: 0.7893567345202945\n"
     ]
    }
   ],
   "source": [
    "print_model_metrics(y_test, y_pred)"
   ]
  },
  {
   "cell_type": "code",
   "execution_count": 57,
   "id": "b0a376b1-354c-4a08-a7b3-9ba8e85b45a5",
   "metadata": {},
   "outputs": [
    {
     "data": {
      "text/plain": [
       "{'alpha': 1.0, 'solver': 'auto'}"
      ]
     },
     "execution_count": 57,
     "metadata": {},
     "output_type": "execute_result"
    }
   ],
   "source": [
    "# acquire optimal parameters\n",
    "grid_search.best_params_"
   ]
  },
  {
   "cell_type": "code",
   "execution_count": 58,
   "id": "e5659df2-4cb2-4e4e-a576-b290c8af4374",
   "metadata": {},
   "outputs": [
    {
     "data": {
      "text/html": [
       "<div>\n",
       "<style scoped>\n",
       "    .dataframe tbody tr th:only-of-type {\n",
       "        vertical-align: middle;\n",
       "    }\n",
       "\n",
       "    .dataframe tbody tr th {\n",
       "        vertical-align: top;\n",
       "    }\n",
       "\n",
       "    .dataframe thead th {\n",
       "        text-align: right;\n",
       "    }\n",
       "</style>\n",
       "<table border=\"1\" class=\"dataframe\">\n",
       "  <thead>\n",
       "    <tr style=\"text-align: right;\">\n",
       "      <th></th>\n",
       "      <th>Feature</th>\n",
       "      <th>Coefficient</th>\n",
       "    </tr>\n",
       "  </thead>\n",
       "  <tbody>\n",
       "    <tr>\n",
       "      <th>0</th>\n",
       "      <td>season</td>\n",
       "      <td>54.669281</td>\n",
       "    </tr>\n",
       "    <tr>\n",
       "      <th>1</th>\n",
       "      <td>mnth</td>\n",
       "      <td>-64.146948</td>\n",
       "    </tr>\n",
       "    <tr>\n",
       "      <th>2</th>\n",
       "      <td>holiday</td>\n",
       "      <td>-175.917336</td>\n",
       "    </tr>\n",
       "    <tr>\n",
       "      <th>3</th>\n",
       "      <td>weekday</td>\n",
       "      <td>67.593790</td>\n",
       "    </tr>\n",
       "    <tr>\n",
       "      <th>4</th>\n",
       "      <td>workingday</td>\n",
       "      <td>248.427452</td>\n",
       "    </tr>\n",
       "    <tr>\n",
       "      <th>5</th>\n",
       "      <td>weathersit</td>\n",
       "      <td>-104.222470</td>\n",
       "    </tr>\n",
       "    <tr>\n",
       "      <th>6</th>\n",
       "      <td>atemp</td>\n",
       "      <td>410.520240</td>\n",
       "    </tr>\n",
       "    <tr>\n",
       "      <th>7</th>\n",
       "      <td>hum</td>\n",
       "      <td>-100.781097</td>\n",
       "    </tr>\n",
       "    <tr>\n",
       "      <th>8</th>\n",
       "      <td>windspeed</td>\n",
       "      <td>-67.761851</td>\n",
       "    </tr>\n",
       "    <tr>\n",
       "      <th>9</th>\n",
       "      <td>nonwork_temp_interaction</td>\n",
       "      <td>613.922357</td>\n",
       "    </tr>\n",
       "  </tbody>\n",
       "</table>\n",
       "</div>"
      ],
      "text/plain": [
       "                    Feature  Coefficient\n",
       "0                    season    54.669281\n",
       "1                      mnth   -64.146948\n",
       "2                   holiday  -175.917336\n",
       "3                   weekday    67.593790\n",
       "4                workingday   248.427452\n",
       "5                weathersit  -104.222470\n",
       "6                     atemp   410.520240\n",
       "7                       hum  -100.781097\n",
       "8                 windspeed   -67.761851\n",
       "9  nonwork_temp_interaction   613.922357"
      ]
     },
     "execution_count": 58,
     "metadata": {},
     "output_type": "execute_result"
    }
   ],
   "source": [
    "# display coefficients for Ridge model\n",
    "coefficients = grid_search.best_estimator_.coef_\n",
    "coefficients_df = pd.DataFrame({'Feature': X.columns, 'Coefficient': coefficients})\n",
    "coefficients_df"
   ]
  },
  {
   "cell_type": "markdown",
   "id": "5d58004e-36d0-48cb-bcde-91da5f14834f",
   "metadata": {},
   "source": [
    "### Polynomial Regression "
   ]
  },
  {
   "cell_type": "code",
   "execution_count": 241,
   "id": "be6ac16f-6111-4137-ad8c-79d3e806336d",
   "metadata": {},
   "outputs": [],
   "source": [
    "from sklearn.pipeline import make_pipeline\n",
    "from sklearn.preprocessing import PolynomialFeatures\n",
    "\n",
    "degree = 2  # Set the degree of polynomial\n",
    "poly_features = PolynomialFeatures(degree=degree)\n",
    "\n",
    "X_train, X_test, y_train, y_test = train_test_split(X_normalised, y, test_size=.2)\n",
    "lr = LinearRegression()\n",
    "# create pipeline with polynomial and linear models\n",
    "pipeline = make_pipeline(poly_features, lr)"
   ]
  },
  {
   "cell_type": "code",
   "execution_count": 242,
   "id": "35fe9c2f-a640-41a4-958b-2bd5d2a38a3d",
   "metadata": {},
   "outputs": [
    {
     "data": {
      "text/html": [
       "<style>#sk-container-id-63 {color: black;background-color: white;}#sk-container-id-63 pre{padding: 0;}#sk-container-id-63 div.sk-toggleable {background-color: white;}#sk-container-id-63 label.sk-toggleable__label {cursor: pointer;display: block;width: 100%;margin-bottom: 0;padding: 0.3em;box-sizing: border-box;text-align: center;}#sk-container-id-63 label.sk-toggleable__label-arrow:before {content: \"▸\";float: left;margin-right: 0.25em;color: #696969;}#sk-container-id-63 label.sk-toggleable__label-arrow:hover:before {color: black;}#sk-container-id-63 div.sk-estimator:hover label.sk-toggleable__label-arrow:before {color: black;}#sk-container-id-63 div.sk-toggleable__content {max-height: 0;max-width: 0;overflow: hidden;text-align: left;background-color: #f0f8ff;}#sk-container-id-63 div.sk-toggleable__content pre {margin: 0.2em;color: black;border-radius: 0.25em;background-color: #f0f8ff;}#sk-container-id-63 input.sk-toggleable__control:checked~div.sk-toggleable__content {max-height: 200px;max-width: 100%;overflow: auto;}#sk-container-id-63 input.sk-toggleable__control:checked~label.sk-toggleable__label-arrow:before {content: \"▾\";}#sk-container-id-63 div.sk-estimator input.sk-toggleable__control:checked~label.sk-toggleable__label {background-color: #d4ebff;}#sk-container-id-63 div.sk-label input.sk-toggleable__control:checked~label.sk-toggleable__label {background-color: #d4ebff;}#sk-container-id-63 input.sk-hidden--visually {border: 0;clip: rect(1px 1px 1px 1px);clip: rect(1px, 1px, 1px, 1px);height: 1px;margin: -1px;overflow: hidden;padding: 0;position: absolute;width: 1px;}#sk-container-id-63 div.sk-estimator {font-family: monospace;background-color: #f0f8ff;border: 1px dotted black;border-radius: 0.25em;box-sizing: border-box;margin-bottom: 0.5em;}#sk-container-id-63 div.sk-estimator:hover {background-color: #d4ebff;}#sk-container-id-63 div.sk-parallel-item::after {content: \"\";width: 100%;border-bottom: 1px solid gray;flex-grow: 1;}#sk-container-id-63 div.sk-label:hover label.sk-toggleable__label {background-color: #d4ebff;}#sk-container-id-63 div.sk-serial::before {content: \"\";position: absolute;border-left: 1px solid gray;box-sizing: border-box;top: 0;bottom: 0;left: 50%;z-index: 0;}#sk-container-id-63 div.sk-serial {display: flex;flex-direction: column;align-items: center;background-color: white;padding-right: 0.2em;padding-left: 0.2em;position: relative;}#sk-container-id-63 div.sk-item {position: relative;z-index: 1;}#sk-container-id-63 div.sk-parallel {display: flex;align-items: stretch;justify-content: center;background-color: white;position: relative;}#sk-container-id-63 div.sk-item::before, #sk-container-id-63 div.sk-parallel-item::before {content: \"\";position: absolute;border-left: 1px solid gray;box-sizing: border-box;top: 0;bottom: 0;left: 50%;z-index: -1;}#sk-container-id-63 div.sk-parallel-item {display: flex;flex-direction: column;z-index: 1;position: relative;background-color: white;}#sk-container-id-63 div.sk-parallel-item:first-child::after {align-self: flex-end;width: 50%;}#sk-container-id-63 div.sk-parallel-item:last-child::after {align-self: flex-start;width: 50%;}#sk-container-id-63 div.sk-parallel-item:only-child::after {width: 0;}#sk-container-id-63 div.sk-dashed-wrapped {border: 1px dashed gray;margin: 0 0.4em 0.5em 0.4em;box-sizing: border-box;padding-bottom: 0.4em;background-color: white;}#sk-container-id-63 div.sk-label label {font-family: monospace;font-weight: bold;display: inline-block;line-height: 1.2em;}#sk-container-id-63 div.sk-label-container {text-align: center;}#sk-container-id-63 div.sk-container {/* jupyter's `normalize.less` sets `[hidden] { display: none; }` but bootstrap.min.css set `[hidden] { display: none !important; }` so we also need the `!important` here to be able to override the default hidden behavior on the sphinx rendered scikit-learn.org. See: https://github.com/scikit-learn/scikit-learn/issues/21755 */display: inline-block !important;position: relative;}#sk-container-id-63 div.sk-text-repr-fallback {display: none;}</style><div id=\"sk-container-id-63\" class=\"sk-top-container\"><div class=\"sk-text-repr-fallback\"><pre>Pipeline(steps=[(&#x27;polynomialfeatures&#x27;, PolynomialFeatures()),\n",
       "                (&#x27;linearregression&#x27;, LinearRegression())])</pre><b>In a Jupyter environment, please rerun this cell to show the HTML representation or trust the notebook. <br />On GitHub, the HTML representation is unable to render, please try loading this page with nbviewer.org.</b></div><div class=\"sk-container\" hidden><div class=\"sk-item sk-dashed-wrapped\"><div class=\"sk-label-container\"><div class=\"sk-label sk-toggleable\"><input class=\"sk-toggleable__control sk-hidden--visually\" id=\"sk-estimator-id-183\" type=\"checkbox\" ><label for=\"sk-estimator-id-183\" class=\"sk-toggleable__label sk-toggleable__label-arrow\">Pipeline</label><div class=\"sk-toggleable__content\"><pre>Pipeline(steps=[(&#x27;polynomialfeatures&#x27;, PolynomialFeatures()),\n",
       "                (&#x27;linearregression&#x27;, LinearRegression())])</pre></div></div></div><div class=\"sk-serial\"><div class=\"sk-item\"><div class=\"sk-estimator sk-toggleable\"><input class=\"sk-toggleable__control sk-hidden--visually\" id=\"sk-estimator-id-184\" type=\"checkbox\" ><label for=\"sk-estimator-id-184\" class=\"sk-toggleable__label sk-toggleable__label-arrow\">PolynomialFeatures</label><div class=\"sk-toggleable__content\"><pre>PolynomialFeatures()</pre></div></div></div><div class=\"sk-item\"><div class=\"sk-estimator sk-toggleable\"><input class=\"sk-toggleable__control sk-hidden--visually\" id=\"sk-estimator-id-185\" type=\"checkbox\" ><label for=\"sk-estimator-id-185\" class=\"sk-toggleable__label sk-toggleable__label-arrow\">LinearRegression</label><div class=\"sk-toggleable__content\"><pre>LinearRegression()</pre></div></div></div></div></div></div></div>"
      ],
      "text/plain": [
       "Pipeline(steps=[('polynomialfeatures', PolynomialFeatures()),\n",
       "                ('linearregression', LinearRegression())])"
      ]
     },
     "execution_count": 242,
     "metadata": {},
     "output_type": "execute_result"
    }
   ],
   "source": [
    "pipeline.fit(X_train, y_train)"
   ]
  },
  {
   "cell_type": "code",
   "execution_count": 243,
   "id": "a6f21be6-6725-4c72-ac67-73252e306901",
   "metadata": {},
   "outputs": [
    {
     "name": "stdout",
     "output_type": "stream",
     "text": [
      "mean squared error: 1.3901674651551024e-29\n",
      "mean absolute error: 2.5115045178682595e-15\n",
      "R2 score: 1.0\n",
      "explained variance: 1.0\n"
     ]
    }
   ],
   "source": [
    "y_pred = pipeline.predict(X_test)\n",
    "print_model_metrics(y_test, y_pred)"
   ]
  },
  {
   "cell_type": "markdown",
   "id": "6bbc50e5-8f07-4ade-8fb7-be11c2519055",
   "metadata": {},
   "source": [
    "### Classification example with Logistic Regression"
   ]
  },
  {
   "cell_type": "markdown",
   "id": "7ce38c98-d3f1-4023-82a1-424e4f35244d",
   "metadata": {},
   "source": [
    "#### Creating a Classification model that predicts the season"
   ]
  },
  {
   "cell_type": "code",
   "execution_count": 269,
   "id": "85c17989-d4d9-4e79-8a7e-83626ea3c997",
   "metadata": {},
   "outputs": [],
   "source": [
    "# define predictor\n",
    "X = df.drop(['season'], axis=1)"
   ]
  },
  {
   "cell_type": "code",
   "execution_count": 254,
   "id": "6faca532-35ff-4046-8287-60a48fe56a03",
   "metadata": {},
   "outputs": [],
   "source": [
    "# set season as target value\n",
    "y = df.season "
   ]
  },
  {
   "cell_type": "code",
   "execution_count": 262,
   "id": "caf15e47-eb37-4492-a7be-f32b1b468dd0",
   "metadata": {},
   "outputs": [],
   "source": [
    "X_train, X_test, y_train, y_test = train_test_split(X, y, test_size=.2)"
   ]
  },
  {
   "cell_type": "code",
   "execution_count": 263,
   "id": "764f1300-1bbf-4852-a670-f1d8345cc4c3",
   "metadata": {},
   "outputs": [],
   "source": [
    "from sklearn.linear_model import LogisticRegression\n",
    "from sklearn.model_selection import GridSearchCV\n",
    "from sklearn.metrics import accuracy_score, precision_score, recall_score, f1_score\n",
    "\n",
    "# Define the Logistic Regression model\n",
    "logistic_regression = LogisticRegression()\n",
    "\n",
    "# Define the hyperparameters to search over\n",
    "param_grid = {\n",
    "    'penalty': ['l1', 'l2'],\n",
    "    'C': [0.1, 1.0, 10.0],\n",
    "    'solver': ['liblinear']\n",
    "}\n",
    "\n",
    "# Perform grid search using cross-validation\n",
    "grid_search = GridSearchCV(logistic_regression, param_grid, cv=5, scoring='accuracy')\n",
    "grid_search.fit(X_train, y_train)\n",
    "\n",
    "# Get the best Logistic Regression model\n",
    "best_logistic_regression = grid_search.best_estimator_\n",
    "\n",
    "# Make predictions on the test set\n",
    "y_pred = best_logistic_regression.predict(X_test)\n",
    "\n",
    "# Evaluate the model\n",
    "accuracy = accuracy_score(y_test, y_pred)\n",
    "precision = precision_score(y_test, y_pred, average='micro')\n",
    "recall = recall_score(y_test, y_pred, average='micro')\n",
    "f1 = f1_score(y_test, y_pred, average='micro')\n",
    "\n"
   ]
  },
  {
   "cell_type": "code",
   "execution_count": 264,
   "id": "ae8e3d5c-bb83-45d9-9102-4104d5a675b8",
   "metadata": {},
   "outputs": [
    {
     "data": {
      "text/plain": [
       "0.8503401360544217"
      ]
     },
     "execution_count": 264,
     "metadata": {},
     "output_type": "execute_result"
    }
   ],
   "source": [
    "accuracy"
   ]
  },
  {
   "cell_type": "code",
   "execution_count": 265,
   "id": "513bfbd2-aab6-4aec-8062-50d4484c1017",
   "metadata": {},
   "outputs": [
    {
     "data": {
      "text/plain": [
       "0.8503401360544217"
      ]
     },
     "execution_count": 265,
     "metadata": {},
     "output_type": "execute_result"
    }
   ],
   "source": [
    "precision"
   ]
  },
  {
   "cell_type": "code",
   "execution_count": 266,
   "id": "96063202-158a-47a7-a9f7-310151c9c511",
   "metadata": {},
   "outputs": [
    {
     "data": {
      "text/plain": [
       "0.8503401360544217"
      ]
     },
     "execution_count": 266,
     "metadata": {},
     "output_type": "execute_result"
    }
   ],
   "source": [
    "recall"
   ]
  },
  {
   "cell_type": "code",
   "execution_count": 267,
   "id": "19f1aae9-3dc1-4d65-b368-03a7b40d7c0f",
   "metadata": {},
   "outputs": [
    {
     "data": {
      "text/plain": [
       "0.8503401360544217"
      ]
     },
     "execution_count": 267,
     "metadata": {},
     "output_type": "execute_result"
    }
   ],
   "source": [
    "f1"
   ]
  },
  {
   "cell_type": "code",
   "execution_count": null,
   "id": "7aca7412-cb41-4f1b-8e6d-a375b21fe6f1",
   "metadata": {},
   "outputs": [],
   "source": [
    "# End of file"
   ]
  }
 ],
 "metadata": {
  "kernelspec": {
   "display_name": "Python 3 (ipykernel)",
   "language": "python",
   "name": "python3"
  },
  "language_info": {
   "codemirror_mode": {
    "name": "ipython",
    "version": 3
   },
   "file_extension": ".py",
   "mimetype": "text/x-python",
   "name": "python",
   "nbconvert_exporter": "python",
   "pygments_lexer": "ipython3",
   "version": "3.9.5"
  }
 },
 "nbformat": 4,
 "nbformat_minor": 5
}
